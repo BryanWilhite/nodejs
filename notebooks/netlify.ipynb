{
 "metadata": {
  "language_info": {
   "codemirror_mode": {
    "name": "ipython",
    "version": 3
   },
   "file_extension": ".py",
   "mimetype": "text/x-python",
   "name": "python",
   "nbconvert_exporter": "python",
   "pygments_lexer": "ipython3",
   "version": "3.7.7-final"
  },
  "orig_nbformat": 2,
  "kernelspec": {
   "name": "python37764bitbaseconda1518913713bf42c7a462a73b43e4a288",
   "display_name": "Python 3.7.7 64-bit ('base': conda)"
  }
 },
 "nbformat": 4,
 "nbformat_minor": 2,
 "cells": [
  {
   "source": [
    "# netlify: <https://rasx-node-js.netlify.app/>\n",
    "\n",
    "[app.netlify.com](https://app.netlify.com) provides public-facing live samples for the content in this repo by administrating <https://rasx-node-js.netlify.app/>."
   ],
   "cell_type": "markdown",
   "metadata": {}
  },
  {
   "source": [
    "## netlify uses `index.html`\n",
    "\n",
    "An index page at the root of this repo is needed to display something at the root of <https://rasx-node-js.netlify.app/>. My plan today is to generate a directory listing in this notebook that can used in this index file:"
   ],
   "cell_type": "markdown",
   "metadata": {}
  },
  {
   "cell_type": "code",
   "execution_count": 4,
   "metadata": {},
   "outputs": [
    {
     "output_type": "stream",
     "name": "stdout",
     "text": [
      "<li><a href=\"angular-workspace-minimal/workspace/songhay/dist/studio-floor/index.html\">angular-workspace-minimal/workspace/songhay/dist/studio-floor</a></li>\n<li><a href=\"css-bootstrap-navbar/index.html\">css-bootstrap-navbar</a></li>\n<li><a href=\"css-drop-down-menu/index.html\">css-drop-down-menu</a></li>\n<li><a href=\"css-uncle-dave-ol-padded-box/index.html\">css-uncle-dave-ol-padded-box</a></li>\n<li><a href=\"css3-background-clip/index.html\">css3-background-clip</a></li>\n<li><a href=\"css3-resizable-background-image/index.html\">css3-resizable-background-image</a></li>\n<li><a href=\"d3-bostock-bar-charts/index.html\">d3-bostock-bar-charts</a></li>\n<li><a href=\"jquery-amazon-images/index.html\">jquery-amazon-images</a></li>\n<li><a href=\"jquery-audio5/index.html\">jquery-audio5</a></li>\n<li><a href=\"jquery-index-block-headers/index.html\">jquery-index-block-headers</a></li>\n<li><a href=\"jquery-index-inline-headers/index.html\">jquery-index-inline-headers</a></li>\n<li><a href=\"jquery-input-watermark/index.html\">jquery-input-watermark</a></li>\n<li><a href=\"jquery-jz-validation-plugin/index.html\">jquery-jz-validation-plugin</a></li>\n<li><a href=\"jquery-layout-responsive-strip-of-blocks/index.html\">jquery-layout-responsive-strip-of-blocks</a></li>\n<li><a href=\"jquery-simple-slide-show/index.html\">jquery-simple-slide-show</a></li>\n<li><a href=\"jquery-tables-row-column-highlight/index.html\">jquery-tables-row-column-highlight</a></li>\n<li><a href=\"md-11ty/index.html\">md-11ty</a></li>\n<li><a href=\"md-11ty/docs/index.html\">md-11ty/docs</a></li>\n<li><a href=\"md-11ty/docs/entry/one/index.html\">md-11ty/docs/entry/one</a></li>\n<li><a href=\"md-11ty/docs/not_in_a_collection/index.html\">md-11ty/docs/not_in_a_collection</a></li>\n<li><a href=\"mdn-window-and-document-events/index.html\">mdn-window-and-document-events</a></li>\n<li><a href=\"mocha-and-typescript/packages/mocha-getting-started-browser/__tests__/step-1/index.html\">mocha-and-typescript/packages/mocha-getting-started-browser/__tests__/step-1</a></li>\n<li><a href=\"mocha-and-typescript/packages/mocha-getting-started-browser/__tests__/step-2/index.html\">mocha-and-typescript/packages/mocha-getting-started-browser/__tests__/step-2</a></li>\n<li><a href=\"mocha-and-typescript/packages/mocha-getting-started-browser/__tests__/step-3/index.html\">mocha-and-typescript/packages/mocha-getting-started-browser/__tests__/step-3</a></li>\n<li><a href=\"mocha-and-typescript/packages/mocha-getting-started-browser/__tests__/step-4/index.html\">mocha-and-typescript/packages/mocha-getting-started-browser/__tests__/step-4</a></li>\n<li><a href=\"mocha-and-typescript/packages/mocha-getting-started-browser/__tests__/step-5/index.html\">mocha-and-typescript/packages/mocha-getting-started-browser/__tests__/step-5</a></li>\n<li><a href=\"react-hello-world/hello-world-ts/public/index.html\">react-hello-world/hello-world-ts/public</a></li>\n<li><a href=\"react-hello-world/hello-world/public/index.html\">react-hello-world/hello-world/public</a></li>\n<li><a href=\"svg-and-object-element/index.html\">svg-and-object-element</a></li>\n<li><a href=\"svg-button/index.html\">svg-button</a></li>\n<li><a href=\"svg-codepen-logo/index.html\">svg-codepen-logo</a></li>\n<li><a href=\"svg-codepen-logo-external/index.html\">svg-codepen-logo-external</a></li>\n<li><a href=\"svg-coordinate-attributes/index.html\">svg-coordinate-attributes</a></li>\n<li><a href=\"svg-path/index.html\">svg-path</a></li>\n<li><a href=\"tiffany-rayside-canvas-topiary/index.html\">tiffany-rayside-canvas-topiary</a></li>\n<li><a href=\"tiffany-rayside-svg-animated-background/index.html\">tiffany-rayside-svg-animated-background</a></li>\n<li><a href=\"tiffany-rayside-svg-animated-typing/index.html\">tiffany-rayside-svg-animated-typing</a></li>\n<li><a href=\"tiffany-rayside-svg-goo-ey/index.html\">tiffany-rayside-svg-goo-ey</a></li>\n<li><a href=\"tiffany-rayside-svg-morph/index.html\">tiffany-rayside-svg-morph</a></li>\n<li><a href=\"tiffany-rayside-svg-verlet/index.html\">tiffany-rayside-svg-verlet</a></li>\n<li><a href=\"typescript-and-ajax/index.html\">typescript-and-ajax</a></li>\n<li><a href=\"typescript-and-modules/index.html\">typescript-and-modules</a></li>\n<li><a href=\"web-components-from-zero-to-hero/part-1/index.html\">web-components-from-zero-to-hero/part-1</a></li>\n<li><a href=\"web-components-from-zero-to-hero/part-2/index.html\">web-components-from-zero-to-hero/part-2</a></li>\n<li><a href=\"web-components-from-zero-to-hero/part-3/index.html\">web-components-from-zero-to-hero/part-3</a></li>\n<li><a href=\"web-components-lit-element/index.html\">web-components-lit-element</a></li>\n<li><a href=\"web-components-mdn/01-word-count-web-component/index.html\">web-components-mdn/01-word-count-web-component</a></li>\n<li><a href=\"web-components-mdn/02-popup-info-box-web-component/index.html\">web-components-mdn/02-popup-info-box-web-component</a></li>\n<li><a href=\"web-components-mdn/03-expanding-list-web-component/index.html\">web-components-mdn/03-expanding-list-web-component</a></li>\n<li><a href=\"web-components-mdn/04-life-cycle-callbacks/index.html\">web-components-mdn/04-life-cycle-callbacks</a></li>\n<li><a href=\"web-components-mdn/05-popup-info-box-external-stylesheet/index.html\">web-components-mdn/05-popup-info-box-external-stylesheet</a></li>\n<li><a href=\"web-components-mdn/06-simple-template/index.html\">web-components-mdn/06-simple-template</a></li>\n<li><a href=\"web-components-mdn/07-element-details/index.html\">web-components-mdn/07-element-details</a></li>\n<li><a href=\"webpack-getting-started-dev-server/webpack-asset-management/dist/index.html\">webpack-getting-started-dev-server/webpack-asset-management/dist</a></li>\n<li><a href=\"webpack-getting-started-dev-server/webpack-development/dist/index.html\">webpack-getting-started-dev-server/webpack-development/dist</a></li>\n<li><a href=\"webpack-getting-started-dev-server/webpack-output-management/dist/index.html\">webpack-getting-started-dev-server/webpack-output-management/dist</a></li>\n<li><a href=\"webpack-getting-started/webpack-demo-typescript/dist/index.html\">webpack-getting-started/webpack-demo-typescript/dist</a></li>\n<li><a href=\"webpack-getting-started/webpack-demo/dist/index.html\">webpack-getting-started/webpack-demo/dist</a></li>\n"
     ]
    }
   ],
   "source": [
    "from os import walk\n",
    "\n",
    "def predicate(dir_path, dir_names, file_names):\n",
    "\n",
    "    has_index_file = [name for name in file_names].count('index.html') > 0\n",
    "    no_node_folders = dir_path.find('node_modules') == -1\n",
    "    no_src_folders = dir_path.find('src') == -1\n",
    "\n",
    "    return has_index_file and no_node_folders and no_src_folders\n",
    "\n",
    "index_directories = sorted([(dir_path) for (dir_path, dir_names, file_names)\n",
    "    in walk('../') if predicate(dir_path, dir_names, file_names)])\n",
    "\n",
    "for directory in index_directories:\n",
    "    d = directory.replace('../', '')\n",
    "    print(f'<li><a href=\"{d}/index.html\">{d}</a></li>')\n"
   ]
  },
  {
   "source": [
    "@[BryanWilhite](https://twitter.com/bryanwilhite)\n"
   ],
   "cell_type": "markdown",
   "metadata": {}
  }
 ]
}